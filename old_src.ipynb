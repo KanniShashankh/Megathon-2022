{
  "cells": [
    {
      "cell_type": "code",
      "execution_count": null,
      "metadata": {
        "colab": {
          "base_uri": "https://localhost:8080/"
        },
        "id": "rQ3hG0Znt8PX",
        "outputId": "1052724e-5047-480c-ffba-279766f82afa"
      },
      "outputs": [
        {
          "ename": "",
          "evalue": "",
          "output_type": "error",
          "traceback": [
            "\u001b[1;31mFailed to start the Kernel. \n",
            "\u001b[1;31mERROR: Exception:\n",
            "\u001b[1;31mTraceback (most recent call last):\n",
            "\u001b[1;31m  File \"/Users/shashankh/Library/Python/3.9/lib/python/site-packages/pip/_vendor/urllib3/response.py\", line 437, in _error_catcher\n",
            "\u001b[1;31m    yield\n",
            "\u001b[1;31m  File \"/Users/shashankh/Library/Python/3.9/lib/python/site-packages/pip/_vendor/urllib3/response.py\", line 560, in read\n",
            "\u001b[1;31m    data = self._fp_read(amt) if not fp_closed else b\"\"\n",
            "\u001b[1;31m  File \"/Users/shashankh/Library/Python/3.9/lib/python/site-packages/pip/_vendor/urllib3/response.py\", line 526, in _fp_read\n",
            "\u001b[1;31m    return self._fp.read(amt) if amt is not None else self._fp.read()\n",
            "\u001b[1;31m  File \"/Users/shashankh/Library/Python/3.9/lib/python/site-packages/pip/_vendor/cachecontrol/filewrapper.py\", line 90, in read\n",
            "\u001b[1;31m    data = self.__fp.read(amt)\n",
            "\u001b[1;31m  File \"/Library/Developer/CommandLineTools/Library/Frameworks/Python3.framework/Versions/3.9/lib/python3.9/http/client.py\", line 459, in read\n",
            "\u001b[1;31m    n = self.readinto(b)\n",
            "\u001b[1;31m  File \"/Library/Developer/CommandLineTools/Library/Frameworks/Python3.framework/Versions/3.9/lib/python3.9/http/client.py\", line 503, in readinto\n",
            "\u001b[1;31m    n = self.fp.readinto(b)\n",
            "\u001b[1;31m  File \"/Library/Developer/CommandLineTools/Library/Frameworks/Python3.framework/Versions/3.9/lib/python3.9/socket.py\", line 704, in readinto\n",
            "\u001b[1;31m    return self._sock.recv_into(b)\n",
            "\u001b[1;31m  File \"/Library/Developer/CommandLineTools/Library/Frameworks/Python3.framework/Versions/3.9/lib/python3.9/ssl.py\", line 1241, in recv_into\n",
            "\u001b[1;31m    return self.read(nbytes, buffer)\n",
            "\u001b[1;31m  File \"/Library/Developer/CommandLineTools/Library/Frameworks/Python3.framework/Versions/3.9/lib/python3.9/ssl.py\", line 1099, in read\n",
            "\u001b[1;31m    return self._sslobj.read(len, buffer)\n",
            "\u001b[1;31msocket.timeout: The read operation timed out\n",
            "\u001b[1;31m\n",
            "\u001b[1;31mDuring handling of the above exception, another exception occurred:\n",
            "\u001b[1;31m\n",
            "\u001b[1;31mTraceback (most recent call last):\n",
            "\u001b[1;31m  File \"/Users/shashankh/Library/Python/3.9/lib/python/site-packages/pip/_internal/cli/base_command.py\", line 160, in exc_logging_wrapper\n",
            "\u001b[1;31m    status = run_func(*args)\n",
            "\u001b[1;31m  File \"/Users/shashankh/Library/Python/3.9/lib/python/site-packages/pip/_internal/cli/req_command.py\", line 247, in wrapper\n",
            "\u001b[1;31m    return func(self, options, args)\n",
            "\u001b[1;31m  File \"/Users/shashankh/Library/Python/3.9/lib/python/site-packages/pip/_internal/commands/install.py\", line 400, in run\n",
            "\u001b[1;31m    requirement_set = resolver.resolve(\n",
            "\u001b[1;31m  File \"/Users/shashankh/Library/Python/3.9/lib/python/site-packages/pip/_internal/resolution/resolvelib/resolver.py\", line 92, in resolve\n",
            "\u001b[1;31m    result = self._result = resolver.resolve(\n",
            "\u001b[1;31m  File \"/Users/shashankh/Library/Python/3.9/lib/python/site-packages/pip/_vendor/resolvelib/resolvers.py\", line 481, in resolve\n",
            "\u001b[1;31m    state = resolution.resolve(requirements, max_rounds=max_rounds)\n",
            "\u001b[1;31m  File \"/Users/shashankh/Library/Python/3.9/lib/python/site-packages/pip/_vendor/resolvelib/resolvers.py\", line 373, in resolve\n",
            "\u001b[1;31m    failure_causes = self._attempt_to_pin_criterion(name)\n",
            "\u001b[1;31m  File \"/Users/shashankh/Library/Python/3.9/lib/python/site-packages/pip/_vendor/resolvelib/resolvers.py\", line 213, in _attempt_to_pin_criterion\n",
            "\u001b[1;31m    criteria = self._get_updated_criteria(candidate)\n",
            "\u001b[1;31m  File \"/Users/shashankh/Library/Python/3.9/lib/python/site-packages/pip/_vendor/resolvelib/resolvers.py\", line 204, in _get_updated_criteria\n",
            "\u001b[1;31m    self._add_to_criteria(criteria, requirement, parent=candidate)\n",
            "\u001b[1;31m  File \"/Users/shashankh/Library/Python/3.9/lib/python/site-packages/pip/_vendor/resolvelib/resolvers.py\", line 172, in _add_to_criteria\n",
            "\u001b[1;31m    if not criterion.candidates:\n",
            "\u001b[1;31m  File \"/Users/shashankh/Library/Python/3.9/lib/python/site-packages/pip/_vendor/resolvelib/structs.py\", line 151, in __bool__\n",
            "\u001b[1;31m    return bool(self._sequence)\n",
            "\u001b[1;31m  File \"/Users/shashankh/Library/Python/3.9/lib/python/site-packages/pip/_internal/resolution/resolvelib/found_candidates.py\", line 155, in __bool__\n",
            "\u001b[1;31m    return any(self)\n",
            "\u001b[1;31m  File \"/Users/shashankh/Library/Python/3.9/lib/python/site-packages/pip/_internal/resolution/resolvelib/found_candidates.py\", line 143, in <genexpr>\n",
            "\u001b[1;31m    return (c for c in iterator if id(c) not in self._incompatible_ids)\n",
            "\u001b[1;31m  File \"/Users/shashankh/Library/Python/3.9/lib/python/site-packages/pip/_internal/resolution/resolvelib/found_candidates.py\", line 47, in _iter_built\n",
            "\u001b[1;31m    candidate = func()\n",
            "\u001b[1;31m  File \"/Users/shashankh/Library/Python/3.9/lib/python/site-packages/pip/_internal/resolution/resolvelib/factory.py\", line 206, in _make_candidate_from_link\n",
            "\u001b[1;31m    self._link_candidate_cache[link] = LinkCandidate(\n",
            "\u001b[1;31m  File \"/Users/shashankh/Library/Python/3.9/lib/python/site-packages/pip/_internal/resolution/resolvelib/candidates.py\", line 297, in __init__\n",
            "\u001b[1;31m    super().__init__(\n",
            "\u001b[1;31m  File \"/Users/shashankh/Library/Python/3.9/lib/python/site-packages/pip/_internal/resolution/resolvelib/candidates.py\", line 162, in __init__\n",
            "\u001b[1;31m    self.dist = self._prepare()\n",
            "\u001b[1;31m  File \"/Users/shashankh/Library/Python/3.9/lib/python/site-packages/pip/_internal/resolution/resolvelib/candidates.py\", line 231, in _prepare\n",
            "\u001b[1;31m    dist = self._prepare_distribution()\n",
            "\u001b[1;31m  File \"/Users/shashankh/Library/Python/3.9/lib/python/site-packages/pip/_internal/resolution/resolvelib/candidates.py\", line 308, in _prepare_distribution\n",
            "\u001b[1;31m    return preparer.prepare_linked_requirement(self._ireq, parallel_builds=True)\n",
            "\u001b[1;31m  File \"/Users/shashankh/Library/Python/3.9/lib/python/site-packages/pip/_internal/operations/prepare.py\", line 491, in prepare_linked_requirement\n",
            "\u001b[1;31m    return self._prepare_linked_requirement(req, parallel_builds)\n",
            "\u001b[1;31m  File \"/Users/shashankh/Library/Python/3.9/lib/python/site-packages/pip/_internal/operations/prepare.py\", line 536, in _prepare_linked_requirement\n",
            "\u001b[1;31m    local_file = unpack_url(\n",
            "\u001b[1;31m  File \"/Users/shashankh/Library/Python/3.9/lib/python/site-packages/pip/_internal/operations/prepare.py\", line 166, in unpack_url\n",
            "\u001b[1;31m    file = get_http_url(\n",
            "\u001b[1;31m  File \"/Users/shashankh/Library/Python/3.9/lib/python/site-packages/pip/_internal/operations/prepare.py\", line 107, in get_http_url\n",
            "\u001b[1;31m    from_path, content_type = download(link, temp_dir.path)\n",
            "\u001b[1;31m  File \"/Users/shashankh/Library/Python/3.9/lib/python/site-packages/pip/_internal/network/download.py\", line 147, in __call__\n",
            "\u001b[1;31m    for chunk in chunks:\n",
            "\u001b[1;31m  File \"/Users/shashankh/Library/Python/3.9/lib/python/site-packages/pip/_internal/cli/progress_bars.py\", line 53, in _rich_progress_bar\n",
            "\u001b[1;31m    for chunk in iterable:\n",
            "\u001b[1;31m  File \"/Users/shashankh/Library/Python/3.9/lib/python/site-packages/pip/_internal/network/utils.py\", line 63, in response_chunks\n",
            "\u001b[1;31m    for chunk in response.raw.stream(\n",
            "\u001b[1;31m  File \"/Users/shashankh/Library/Python/3.9/lib/python/site-packages/pip/_vendor/urllib3/response.py\", line 621, in stream\n",
            "\u001b[1;31m    data = self.read(amt=amt, decode_content=decode_content)\n",
            "\u001b[1;31m  File \"/Users/shashankh/Library/Python/3.9/lib/python/site-packages/pip/_vendor/urllib3/response.py\", line 586, in read\n",
            "\u001b[1;31m    raise IncompleteRead(self._fp_bytes_read, self.length_remaining)\n",
            "\u001b[1;31m  File \"/Library/Developer/CommandLineTools/Library/Frameworks/Python3.framework/Versions/3.9/lib/python3.9/contextlib.py\", line 135, in __exit__\n",
            "\u001b[1;31m    self.gen.throw(type, value, traceback)\n",
            "\u001b[1;31m  File \"/Users/shashankh/Library/Python/3.9/lib/python/site-packages/pip/_vendor/urllib3/response.py\", line 442, in _error_catcher\n",
            "\u001b[1;31m    raise ReadTimeoutError(self._pool, None, \"Read timed out.\")\n",
            "\u001b[1;31mpip._vendor.urllib3.exceptions.ReadTimeoutError: HTTPSConnectionPool(host='files.pythonhosted.org', port=443): Read timed out. \n",
            "\u001b[1;31mView Jupyter <a href='command:jupyter.viewOutput'>log</a> for further details."
          ]
        }
      ],
      "source": [
        "print(\"Hello World check\")"
      ]
    }
  ],
  "metadata": {
    "colab": {
      "authorship_tag": "ABX9TyPlU8Dlq2G30nij/1zuPTF6",
      "include_colab_link": true,
      "provenance": []
    },
    "kernelspec": {
      "display_name": "Python 3.9.6 64-bit",
      "language": "python",
      "name": "python3"
    },
    "language_info": {
      "name": "python",
      "version": "3.9.6"
    },
    "vscode": {
      "interpreter": {
        "hash": "31f2aee4e71d21fbe5cf8b01ff0e069b9275f58929596ceb00d14d90e3e16cd6"
      }
    }
  },
  "nbformat": 4,
  "nbformat_minor": 0
}
